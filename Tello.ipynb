{
 "cells": [
  {
   "cell_type": "markdown",
   "source": [
    "## 导入用到的库"
   ],
   "metadata": {}
  },
  {
   "cell_type": "code",
   "execution_count": null,
   "source": [
    "from time import sleep\n",
    "from djitellopy import Tello\n",
    "from cv2 import face\n",
    "from math import sqrt\n",
    "import cv2\n",
    "import socket\n",
    "import matplotlib.pyplot as plt"
   ],
   "outputs": [],
   "metadata": {}
  },
  {
   "cell_type": "code",
   "execution_count": null,
   "source": [
    "send_data = False"
   ],
   "outputs": [],
   "metadata": {}
  },
  {
   "cell_type": "markdown",
   "source": [
    "## 定义对象并连接"
   ],
   "metadata": {}
  },
  {
   "cell_type": "code",
   "execution_count": null,
   "source": [
    "tello = Tello()\n",
    "tello.connect()\n",
    "tello.streamon()"
   ],
   "outputs": [],
   "metadata": {}
  },
  {
   "cell_type": "markdown",
   "source": [
    "## 连接Socket客户端"
   ],
   "metadata": {}
  },
  {
   "cell_type": "code",
   "execution_count": null,
   "source": [
    "if send_data:\n",
    "    host ='192.168.3.5'\n",
    "    port = 4040\n",
    "    client = socket.socket(socket.AF_INET,socket.SOCK_STREAM)\n",
    "    client.settimeout(180)\n",
    "    client.connect((host,port))\n",
    "def SendData(data):\n",
    "    if send_data:\n",
    "        client.send(data.encode())\n",
    "    else: print(data)\n",
    "        "
   ],
   "outputs": [],
   "metadata": {}
  },
  {
   "cell_type": "markdown",
   "source": [
    "## 图片处理"
   ],
   "metadata": {}
  },
  {
   "cell_type": "code",
   "execution_count": null,
   "source": [
    "SendData(str(tello.get_battery()))\n",
    "SendData(str(tello.get_temperature()))\n",
    "tello.takeoff()\n",
    "tello.move_up(80)"
   ],
   "outputs": [],
   "metadata": {}
  },
  {
   "cell_type": "code",
   "execution_count": null,
   "source": [
    "TelloVideo = cv2.VideoCapture(\"udp://@0.0.0.0:11111\")\n",
    "red = (0, 0, 255)\n",
    "green = (0, 255, 0)\n",
    "blue = (255, 0, 0)\n",
    "thickness = [1, 2, 4, 8]\n",
    "\n",
    "while True:\n",
    "    if not tello.is_flying: break\n",
    "    ret, frame = TelloVideo.read()\n",
    "    if ret:\n",
    "        frame = cv2.resize(frame, (320,240))\n",
    "        gray = cv2.cvtColor(frame, cv2.COLOR_BGR2GRAY)\n",
    "        face_cascade = cv2.CascadeClassifier('cascades/data/haarcascade_frontalface_alt2.xml')\n",
    "        face_rects = face_cascade.detectMultiScale(gray, scaleFactor=1.5, minNeighbors=2)\n",
    "\n",
    "        leftright = forwardback = updown = yawvelocity = 0\n",
    "        for face_rect in face_rects:\n",
    "            x, y, w, h = face_rect\n",
    "            points = [(x, y), (x + w, y + h), (int(x + w/2), int(y + h/2)), (160, 120)]\n",
    "\n",
    "            cv2.rectangle(frame, points[0], points[1], blue, thickness[1])\n",
    "            cv2.circle(frame, points[2], thickness[3], blue)\n",
    "            cv2.circle(frame, points[3], thickness[3], green)\n",
    "            cv2.line(frame, points[2], points[3], green, thickness[1])\n",
    "            plt.imshow(cv2.cvtColor(frame, cv2.COLOR_BGR2RGB))\n",
    "            distance = int(sqrt(pow(int(x + w/2) - 160, 2) + pow(int(y + h/2) - 120, 2)))\n",
    "            size = int(w * h)\n",
    "\n",
    "            if distance > 50:\n",
    "                med_face, med_pic = points[2], points[3]\n",
    "                output = ''\n",
    "                if med_face[0] - med_pic[0] > 0:\n",
    "                    v = med_pic[0] - med_face[0]\n",
    "                    leftright = v\n",
    "                    yawvelocity = int(-v / 2)\n",
    "                    output += '右'\n",
    "                else:\n",
    "                    v = med_face[0] - med_pic[0]\n",
    "                    leftright = v\n",
    "                    yawvelocity = int(-v / 2)\n",
    "                    output += '左'\n",
    "                if med_face[1] - med_pic[1] > 0:\n",
    "                    v = med_pic[1] - med_face[1]\n",
    "                    updown = int(v / 2)\n",
    "                    output += '下'\n",
    "                else:\n",
    "                    v = med_face[1] - med_pic[1]\n",
    "                    updown = int(v / 2)\n",
    "                    output += '上'\n",
    "                SendData(f'头像在画面的{output}方，{distance}')\n",
    "            else:\n",
    "                SendData(str(distance))\n",
    "                leftright = updown = yawvelocity = 0\n",
    "            if size > 8000:\n",
    "                forwardback = int(size / 2000)\n",
    "                SendData(f'头像偏近：{size}')\n",
    "            elif size < 4000:\n",
    "                forwardback = int(-size / 2000)\n",
    "                SendData(f'头像偏远：{size}')\n",
    "            else:\n",
    "                SendData(str(size))\n",
    "                forwardback = 0\n",
    "        tello.send_rc_control(leftright, forwardback, updown, yawvelocity)\n",
    "    sleep(1/2)"
   ],
   "outputs": [],
   "metadata": {}
  }
 ],
 "metadata": {
  "orig_nbformat": 4,
  "language_info": {
   "name": "python",
   "version": "3.7.3",
   "mimetype": "text/x-python",
   "codemirror_mode": {
    "name": "ipython",
    "version": 3
   },
   "pygments_lexer": "ipython3",
   "nbconvert_exporter": "python",
   "file_extension": ".py"
  },
  "kernelspec": {
   "name": "python3",
   "display_name": "Python 3.7.3 32-bit"
  },
  "interpreter": {
   "hash": "31f2aee4e71d21fbe5cf8b01ff0e069b9275f58929596ceb00d14d90e3e16cd6"
  }
 },
 "nbformat": 4,
 "nbformat_minor": 2
}